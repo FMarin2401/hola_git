{
 "cells": [
  {
   "cell_type": "code",
   "execution_count": 1,
   "metadata": {},
   "outputs": [],
   "source": [
    "import os"
   ]
  },
  {
   "cell_type": "code",
   "execution_count": 2,
   "metadata": {},
   "outputs": [
    {
     "name": "stdout",
     "output_type": "stream",
     "text": [
      "d:\\Escuela\\Programación\\practica02\n"
     ]
    }
   ],
   "source": [
    "# retorna el path en el que se esta ejecutando este \n",
    "# archivo\n",
    "print(os.getcwd())"
   ]
  },
  {
   "cell_type": "code",
   "execution_count": 3,
   "metadata": {},
   "outputs": [
    {
     "name": "stdout",
     "output_type": "stream",
     "text": [
      "['192546-4Juan Yael.py', 'c1', 'c2', 'practica02.ipynb', 'tempCodeRunnerFile.py', 'uwul.py']\n"
     ]
    }
   ],
   "source": [
    "# Returna un array con todos los nombres de los \n",
    "# files en un directorio\n",
    "print(os.listdir())"
   ]
  },
  {
   "cell_type": "code",
   "execution_count": 4,
   "metadata": {},
   "outputs": [],
   "source": [
    "# Checa si existe el directory \"modules\" y \n",
    "# si no este ejecuta el comando mkdir para crearlo\n",
    "if not os.path.exists(\"modules\"):\n",
    "    os.mkdir(\"modules\")\n"
   ]
  },
  {
   "cell_type": "code",
   "execution_count": 5,
   "metadata": {},
   "outputs": [
    {
     "name": "stdout",
     "output_type": "stream",
     "text": [
      "33206\n",
      "0\n",
      "1695780194.4884691\n"
     ]
    }
   ],
   "source": [
    "# salva el path para el nuevo file que se va a \n",
    "# crear llamado README.txt\n",
    "path_file=os.path.join(\"modules\", \"README.txt\")\n",
    "# Despues utiliza la funcion de open, la cual \n",
    "# le pasamos el argumento de que si no esta lo cree\n",
    "f=os.open(path_file, os.O_RDWR|os.O_CREAT)\n",
    "\n",
    "# Usamos la funcions os.stat en el path guardado \n",
    "# anteriormente para sacar la info de ese file\n",
    "file_properties=os.stat(path_file)\n",
    "print(file_properties.st_mode) \n",
    "print(file_properties.st_size) #Tamaño del file\n",
    "print(file_properties.st_mtime) #Tiempo de creación"
   ]
  },
  {
   "cell_type": "code",
   "execution_count": 12,
   "metadata": {},
   "outputs": [
    {
     "ename": "TypeError",
     "evalue": "'str' object cannot be interpreted as an integer",
     "output_type": "error",
     "traceback": [
      "\u001b[1;31m---------------------------------------------------------------------------\u001b[0m",
      "\u001b[1;31mTypeError\u001b[0m                                 Traceback (most recent call last)",
      "\u001b[1;32md:\\Escuela\\Programación\\practica02\\practica02.ipynb Cell 6\u001b[0m line \u001b[0;36m<cell line: 17>\u001b[1;34m()\u001b[0m\n\u001b[0;32m     <a href='vscode-notebook-cell:/d%3A/Escuela/Programaci%C3%B3n/practica02/practica02.ipynb#W5sZmlsZQ%3D%3D?line=18'>19</a>\u001b[0m     og_file\u001b[39m=\u001b[39mos\u001b[39m.\u001b[39mopen(os\u001b[39m.\u001b[39mpath\u001b[39m.\u001b[39mjoin(\u001b[39m\"\u001b[39m\u001b[39mc1\u001b[39m\u001b[39m\"\u001b[39m, file), os\u001b[39m.\u001b[39mO_RDWR\u001b[39m|\u001b[39mos\u001b[39m.\u001b[39mO_CREAT)\n\u001b[0;32m     <a href='vscode-notebook-cell:/d%3A/Escuela/Programaci%C3%B3n/practica02/practica02.ipynb#W5sZmlsZQ%3D%3D?line=19'>20</a>\u001b[0m     os\u001b[39m.\u001b[39mwrite(new_file, os\u001b[39m.\u001b[39mread(og_file, os\u001b[39m.\u001b[39mstat(os\u001b[39m.\u001b[39mpath\u001b[39m.\u001b[39mjoin(\u001b[39m\"\u001b[39m\u001b[39mc1\u001b[39m\u001b[39m\"\u001b[39m, file))\u001b[39m.\u001b[39mst_size))\n\u001b[1;32m---> <a href='vscode-notebook-cell:/d%3A/Escuela/Programaci%C3%B3n/practica02/practica02.ipynb#W5sZmlsZQ%3D%3D?line=20'>21</a>\u001b[0m     os\u001b[39m.\u001b[39;49mclose(os\u001b[39m.\u001b[39;49mpath\u001b[39m.\u001b[39;49mjoin(\u001b[39m\"\u001b[39;49m\u001b[39mmodules\u001b[39;49m\u001b[39m\"\u001b[39;49m, \u001b[39mf\u001b[39;49m\u001b[39m\"\u001b[39;49m\u001b[39m{\u001b[39;49;00mfile\u001b[39m}\u001b[39;49;00m\u001b[39m\"\u001b[39;49m))\n\u001b[0;32m     <a href='vscode-notebook-cell:/d%3A/Escuela/Programaci%C3%B3n/practica02/practica02.ipynb#W5sZmlsZQ%3D%3D?line=21'>22</a>\u001b[0m     os\u001b[39m.\u001b[39mclose(os\u001b[39m.\u001b[39mpath\u001b[39m.\u001b[39mjoin(\u001b[39m\"\u001b[39m\u001b[39mc1\u001b[39m\u001b[39m\"\u001b[39m, file))\n\u001b[0;32m     <a href='vscode-notebook-cell:/d%3A/Escuela/Programaci%C3%B3n/practica02/practica02.ipynb#W5sZmlsZQ%3D%3D?line=23'>24</a>\u001b[0m \u001b[39mfor\u001b[39;00m file \u001b[39min\u001b[39;00m os\u001b[39m.\u001b[39mlistdir(os\u001b[39m.\u001b[39mpath\u001b[39m.\u001b[39mjoin(\u001b[39m\"\u001b[39m\u001b[39mc2\u001b[39m\u001b[39m\"\u001b[39m)):\n",
      "\u001b[1;31mTypeError\u001b[0m: 'str' object cannot be interpreted as an integer"
     ]
    }
   ],
   "source": [
    "# Copia files de un directorio a otro\n",
    "# Usa el metodo para agarrar los nombres de los \n",
    "# files en el directorio c1\n",
    "# Despues abre o crea un file en la carpeta modules \n",
    "# con el mismo nombre que en el otro\n",
    "# Abre el file original y lo guarda en la variable:og_file\n",
    "# Despues lo leemos usando la funcion os.read que \n",
    "# necesita el id anteriormente guardado en las variables\n",
    "# y tambien le tenemos que pasar cuantos bytes \n",
    "# tenemos que leer \n",
    "# por lo cual usamos la funcion de os.stat \n",
    "# para sacar el tamaño del file\n",
    "# Despues de leerlo lo escribimos en el\n",
    "# file nuevo los bytes que se leyeron del archivo\n",
    "# Y al final cerramos los dos files\n",
    "# Y repetimos lo mismo en los dos\n",
    "for file in os.listdir(os.path.join(\"c1\")):\n",
    "    new_file=os.open(os.path.join(\"modules\", file), os.O_RDWR|os.O_CREAT)\n",
    "    og_file=os.open(os.path.join(\"c1\", file), os.O_RDWR|os.O_CREAT)\n",
    "    os.write(new_file, os.read(og_file, os.stat(os.path.join(\"c1\", file)).st_size))\n",
    "    os.close(os.path.join(\"modules\", f\"{file}\"))\n",
    "    os.close(os.path.join(\"c1\", file))\n",
    "    \n",
    "for file in os.listdir(os.path.join(\"c2\")):\n",
    "    new_file=os.open(os.path.join(\"modules\", file), os.O_RDWR|os.O_CREAT)\n",
    "    og_file=os.open(os.path.join(\"c2\", file), os.O_RDWR|os.O_CREAT)\n",
    "    os.write(new_file, os.read(og_file, os.stat(os.path.join(\"c2\", file)).st_size))\n",
    "    os.close(os.path.join(\"modules\", f\"{file}\"))\n",
    "    os.close(os.path.join(\"c2\", file))"
   ]
  },
  {
   "cell_type": "code",
   "execution_count": 2,
   "metadata": {},
   "outputs": [],
   "source": [
    "# Eliminar\n",
    "# Para eliminarlos usamos otra vez la funcion de \n",
    "# listdir para sacar \n",
    "# todos los nombres y asi poder utilizar la funcion \n",
    "# os.path.join para sacar\n",
    "# su path completo al file y poderlo eliminar\n",
    "for file in os.listdir(os.path.join(\"c1\")):\n",
    "    os.remove(os.path.join(\"c1\", file))\n",
    "\n",
    "for file in os.listdir(os.path.join(\"c2\")):\n",
    "    os.remove(os.path.join(\"c2\", file))"
   ]
  }
 ],
 "metadata": {
  "kernelspec": {
   "display_name": "Python 3",
   "language": "python",
   "name": "python3"
  },
  "language_info": {
   "codemirror_mode": {
    "name": "ipython",
    "version": 3
   },
   "file_extension": ".py",
   "mimetype": "text/x-python",
   "name": "python",
   "nbconvert_exporter": "python",
   "pygments_lexer": "ipython3",
   "version": "3.10.2"
  },
  "orig_nbformat": 4
 },
 "nbformat": 4,
 "nbformat_minor": 2
}
